{
 "cells": [
  {
   "cell_type": "markdown",
   "id": "297623f2-83e1-4d1b-b5d8-4bc9625a173d",
   "metadata": {},
   "source": [
    "Q1. What is a tuple in Python?"
   ]
  },
  {
   "cell_type": "markdown",
   "id": "6cbaff49-3dee-4a8c-ad1f-78135d42b1b3",
   "metadata": {},
   "source": [
    "collection of elements enclosed in parentheses. Tuples are immutable which means they cannot be modified."
   ]
  },
  {
   "cell_type": "markdown",
   "id": "0bb99e38-3023-4faf-b509-97eb3ca68bcf",
   "metadata": {},
   "source": [
    "Q2. How do you create a tuple in Python?"
   ]
  },
  {
   "cell_type": "code",
   "execution_count": 1,
   "id": "5da60a19-d350-47ac-b64c-a10804817eb7",
   "metadata": {},
   "outputs": [],
   "source": [
    "t = (1, 2, 3, \"maths\", \"physics\")"
   ]
  },
  {
   "cell_type": "markdown",
   "id": "0e759578-bf2a-4edc-9cb9-2576c353ad1c",
   "metadata": {},
   "source": [
    "Q3. What is the difference between a tuple and a list in Python?"
   ]
  },
  {
   "cell_type": "markdown",
   "id": "2b9bb1ed-a879-41b3-ac49-c4b200ffd07e",
   "metadata": {},
   "source": [
    "Tupple is immutable but list is mutable."
   ]
  },
  {
   "cell_type": "markdown",
   "id": "424ae5fe-055c-4afd-878b-2260e7673682",
   "metadata": {},
   "source": [
    "Q4. Can a tuple be changed in Python?"
   ]
  },
  {
   "cell_type": "markdown",
   "id": "947efce5-8109-44d2-89d0-388460de51fa",
   "metadata": {},
   "source": [
    "No, tuples are immutable."
   ]
  },
  {
   "cell_type": "markdown",
   "id": "f5d3d604-f178-4fce-b255-4a9255a678a8",
   "metadata": {},
   "source": [
    "Q5. How do you access elements in a tuple?"
   ]
  },
  {
   "cell_type": "markdown",
   "id": "c0ceec60-29e1-40fb-a471-cb26e87f483e",
   "metadata": {},
   "source": [
    "Elements can be accessed using indexing with square brackets. "
   ]
  },
  {
   "cell_type": "markdown",
   "id": "fbbe5c2f-0455-4843-9410-e89748f72156",
   "metadata": {},
   "source": [
    "Q6. How do you unpack a tuple in Python?"
   ]
  },
  {
   "cell_type": "code",
   "execution_count": null,
   "id": "560ca105-b0cf-416d-b900-a6b73c78a8d6",
   "metadata": {},
   "outputs": [],
   "source": []
  }
 ],
 "metadata": {
  "kernelspec": {
   "display_name": "Python 3 (ipykernel)",
   "language": "python",
   "name": "python3"
  },
  "language_info": {
   "codemirror_mode": {
    "name": "ipython",
    "version": 3
   },
   "file_extension": ".py",
   "mimetype": "text/x-python",
   "name": "python",
   "nbconvert_exporter": "python",
   "pygments_lexer": "ipython3",
   "version": "3.10.8"
  }
 },
 "nbformat": 4,
 "nbformat_minor": 5
}
