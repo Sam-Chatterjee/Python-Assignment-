{
 "cells": [
  {
   "cell_type": "markdown",
   "id": "838d67a0-2b6a-4205-8158-de3323543a9c",
   "metadata": {},
   "source": [
    "Q1"
   ]
  },
  {
   "cell_type": "code",
   "execution_count": 49,
   "id": "1b0bd431-eaaf-45a5-a95b-9fc53787146f",
   "metadata": {},
   "outputs": [],
   "source": [
    "a = []"
   ]
  },
  {
   "cell_type": "markdown",
   "id": "9d8a9c8e-4415-40e9-9f9d-8234fb32b856",
   "metadata": {},
   "source": [
    "Q2"
   ]
  },
  {
   "cell_type": "code",
   "execution_count": 34,
   "id": "ce19d97f-039e-4311-8190-328e6e0c9f6a",
   "metadata": {},
   "outputs": [
    {
     "name": "stdout",
     "output_type": "stream",
     "text": [
      "[1, 23, 78, 47, 51, 20]\n"
     ]
    }
   ],
   "source": [
    "a = [1,23,78,47,51]\n",
    "a.append(20)\n",
    "print(a)"
   ]
  },
  {
   "cell_type": "markdown",
   "id": "7872abd1-c06c-45d3-968a-bc7c71dbcefa",
   "metadata": {},
   "source": [
    "Q3"
   ]
  },
  {
   "cell_type": "code",
   "execution_count": 40,
   "id": "80a89a56-cf85-48b0-9872-ad1d236782ce",
   "metadata": {},
   "outputs": [
    {
     "data": {
      "text/plain": [
       "78"
      ]
     },
     "execution_count": 40,
     "metadata": {},
     "output_type": "execute_result"
    }
   ],
   "source": [
    "a[-1]"
   ]
  },
  {
   "cell_type": "markdown",
   "id": "e38a3339-467c-40f0-b246-0708f066e1c8",
   "metadata": {},
   "source": [
    "Q4"
   ]
  },
  {
   "cell_type": "code",
   "execution_count": 35,
   "id": "7cfe6d22-766f-4618-8760-8c999bfc6718",
   "metadata": {},
   "outputs": [
    {
     "data": {
      "text/plain": [
       "[20, 51, 47, 78, 23, 1]"
      ]
     },
     "execution_count": 35,
     "metadata": {},
     "output_type": "execute_result"
    }
   ],
   "source": [
    "a[::-1]"
   ]
  },
  {
   "cell_type": "markdown",
   "id": "442c5234-bf21-4266-993b-efc7ef2a008a",
   "metadata": {},
   "source": [
    "Q5"
   ]
  },
  {
   "cell_type": "code",
   "execution_count": 39,
   "id": "8f6dc38e-76e6-4ab5-bb3b-6bd8a5796e46",
   "metadata": {},
   "outputs": [
    {
     "name": "stdout",
     "output_type": "stream",
     "text": [
      "[1, 20, 23, 47, 51, 78]\n"
     ]
    }
   ],
   "source": [
    "a.sort()\n",
    "print(a)"
   ]
  },
  {
   "cell_type": "markdown",
   "id": "2568c05e-0a97-405c-8f7f-49dfe820697a",
   "metadata": {},
   "source": [
    "Q6"
   ]
  },
  {
   "cell_type": "code",
   "execution_count": 46,
   "id": "a22643a7-14b7-4790-9bc5-7b228dc1572e",
   "metadata": {},
   "outputs": [
    {
     "data": {
      "text/plain": [
       "'avatar'"
      ]
     },
     "execution_count": 46,
     "metadata": {},
     "output_type": "execute_result"
    }
   ],
   "source": [
    "movies = ['harry potter', 'avatar', 'iron man']\n",
    "movies[1]"
   ]
  },
  {
   "cell_type": "markdown",
   "id": "2e1ea905-9a8b-49df-8046-142dbe80d96d",
   "metadata": {},
   "source": [
    "Q7"
   ]
  },
  {
   "cell_type": "code",
   "execution_count": 47,
   "id": "2deb0b25-df6a-43cd-b192-d06f7c4c45f5",
   "metadata": {},
   "outputs": [
    {
     "name": "stdout",
     "output_type": "stream",
     "text": [
      "['dog', 'cat', 'mouse']\n",
      "['dog', 'cat', 'mouse', 'tiger']\n"
     ]
    }
   ],
   "source": [
    "animals = ['dog', 'cat', 'mouse']\n",
    "print(animals)\n",
    "animals.append('tiger')\n",
    "print(animals)"
   ]
  },
  {
   "cell_type": "markdown",
   "id": "20f2942b-6e0d-41bb-be09-36aafafa82ae",
   "metadata": {},
   "source": [
    "Q8"
   ]
  },
  {
   "cell_type": "code",
   "execution_count": 48,
   "id": "15a89555-95c6-4c6e-9c07-0ac68c3d0a71",
   "metadata": {},
   "outputs": [
    {
     "name": "stdout",
     "output_type": "stream",
     "text": [
      "2\n"
     ]
    }
   ],
   "source": [
    "cities = ['delhi', 'noida', 'kochi', 'mumbai']\n",
    "print(cities.index('kochi'))"
   ]
  }
 ],
 "metadata": {
  "kernelspec": {
   "display_name": "Python 3 (ipykernel)",
   "language": "python",
   "name": "python3"
  },
  "language_info": {
   "codemirror_mode": {
    "name": "ipython",
    "version": 3
   },
   "file_extension": ".py",
   "mimetype": "text/x-python",
   "name": "python",
   "nbconvert_exporter": "python",
   "pygments_lexer": "ipython3",
   "version": "3.10.8"
  }
 },
 "nbformat": 4,
 "nbformat_minor": 5
}
