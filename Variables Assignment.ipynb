{
 "cells": [
  {
   "cell_type": "code",
   "execution_count": 1,
   "id": "c0522caf-0d06-41f6-b0b9-d30548712437",
   "metadata": {},
   "outputs": [],
   "source": [
    "#"
   ]
  },
  {
   "cell_type": "markdown",
   "id": "b469eb35-3f2f-4538-a538-f558e3e1968a",
   "metadata": {},
   "source": [
    "1. In lowercase letters separated with with underscores (e.g. grocery_items, total_count).\n",
    "2. Start with a letter or underscore: Variable names cannot begin with a number or other symbols.\n",
    "Avoid reserved keywords: Don't use words like if, else, for, while, etc., as they have special meanings in Python.\n",
    "Be descriptive: Choose names that clearly convey the variable's purpose."
   ]
  }
 ],
 "metadata": {
  "kernelspec": {
   "display_name": "Python 3 (ipykernel)",
   "language": "python",
   "name": "python3"
  },
  "language_info": {
   "codemirror_mode": {
    "name": "ipython",
    "version": 3
   },
   "file_extension": ".py",
   "mimetype": "text/x-python",
   "name": "python",
   "nbconvert_exporter": "python",
   "pygments_lexer": "ipython3",
   "version": "3.10.8"
  }
 },
 "nbformat": 4,
 "nbformat_minor": 5
}
