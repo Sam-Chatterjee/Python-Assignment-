{
 "cells": [
  {
   "cell_type": "markdown",
   "id": "cfb84bd9-a453-41ab-ada4-750ee22a4f56",
   "metadata": {},
   "source": [
    "Q1. What is a set in Python?"
   ]
  },
  {
   "cell_type": "markdown",
   "id": "63d7047d-50b3-421b-88f9-28c7ee5cd59b",
   "metadata": {},
   "source": [
    "A set is an unordered collection of elements. Here, the elements aren't arranged in a specific sequence and each element can only appear once in the set."
   ]
  },
  {
   "cell_type": "markdown",
   "id": "0d04f702-6cda-497a-b11f-1b66472be95f",
   "metadata": {},
   "source": [
    "Q2. How do you create a set in Python?"
   ]
  },
  {
   "cell_type": "code",
   "execution_count": 13,
   "id": "09d3c1a9-e5e8-4cf1-9340-eac36641d429",
   "metadata": {},
   "outputs": [],
   "source": [
    "s = {1, 2, 3, 4, 5}"
   ]
  },
  {
   "cell_type": "markdown",
   "id": "25018abe-6d70-4dbd-bf40-0c4df202846c",
   "metadata": {},
   "source": [
    "Q3. How do you add elements to a set in Python?"
   ]
  },
  {
   "cell_type": "code",
   "execution_count": 14,
   "id": "efcf5928-10e5-41d1-a568-027c41cf9855",
   "metadata": {},
   "outputs": [],
   "source": [
    "s.add(6)"
   ]
  },
  {
   "cell_type": "markdown",
   "id": "80024a7f-59b5-438a-b627-07f3782503ad",
   "metadata": {},
   "source": [
    "Q4. How do you remove elements from a set in Python?"
   ]
  },
  {
   "cell_type": "code",
   "execution_count": 16,
   "id": "882376fe-dec6-4af2-a19e-b605e8aedc9d",
   "metadata": {},
   "outputs": [],
   "source": [
    "s.remove(3)"
   ]
  },
  {
   "cell_type": "markdown",
   "id": "4deb3134-84c5-473f-898a-de47e4c843dd",
   "metadata": {},
   "source": [
    "Q5. How do you get the length of a set in Python?"
   ]
  },
  {
   "cell_type": "code",
   "execution_count": 17,
   "id": "c4ea5037-7aca-47d1-bb10-733382929c71",
   "metadata": {},
   "outputs": [
    {
     "data": {
      "text/plain": [
       "5"
      ]
     },
     "execution_count": 17,
     "metadata": {},
     "output_type": "execute_result"
    }
   ],
   "source": [
    "len(s)"
   ]
  },
  {
   "cell_type": "code",
   "execution_count": null,
   "id": "6cfaee68-68ff-4d42-bb27-146e8093f3e3",
   "metadata": {},
   "outputs": [],
   "source": []
  }
 ],
 "metadata": {
  "kernelspec": {
   "display_name": "Python 3 (ipykernel)",
   "language": "python",
   "name": "python3"
  },
  "language_info": {
   "codemirror_mode": {
    "name": "ipython",
    "version": 3
   },
   "file_extension": ".py",
   "mimetype": "text/x-python",
   "name": "python",
   "nbconvert_exporter": "python",
   "pygments_lexer": "ipython3",
   "version": "3.10.8"
  }
 },
 "nbformat": 4,
 "nbformat_minor": 5
}
