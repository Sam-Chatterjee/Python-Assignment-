{
 "cells": [
  {
   "cell_type": "markdown",
   "id": "d00eed7a-e18a-4b16-b679-fe66f83a02da",
   "metadata": {},
   "source": [
    "Q1"
   ]
  },
  {
   "cell_type": "markdown",
   "id": "b9e7acd3-595d-416a-be1d-1bd81546df73",
   "metadata": {},
   "source": [
    "append()"
   ]
  },
  {
   "cell_type": "markdown",
   "id": "b2d66195-f061-4ddc-a895-5ebf014926ba",
   "metadata": {},
   "source": [
    "Q2"
   ]
  },
  {
   "cell_type": "markdown",
   "id": "3adb7ced-f889-453e-9b31-7a3c547a2766",
   "metadata": {},
   "source": [
    "remove() temporarily removes the element when printing the output while pop() permanently removes the element from the data."
   ]
  },
  {
   "cell_type": "markdown",
   "id": "0a79e3c6-74bf-4106-b921-a1b285d3f919",
   "metadata": {},
   "source": [
    "Q3"
   ]
  },
  {
   "cell_type": "code",
   "execution_count": 7,
   "id": "482d38e3-48c5-4841-89eb-412ea8c128c0",
   "metadata": {},
   "outputs": [
    {
     "name": "stdout",
     "output_type": "stream",
     "text": [
      "[23, 23, 34, 45, 46, 56, 67]\n"
     ]
    }
   ],
   "source": [
    "a = [23,45,23,46,67,34,56]\n",
    "a.sort()\n",
    "print(a)"
   ]
  },
  {
   "cell_type": "markdown",
   "id": "9e13548c-5a35-43c2-9945-09bee9453095",
   "metadata": {},
   "source": [
    "Q4"
   ]
  },
  {
   "cell_type": "code",
   "execution_count": 9,
   "id": "bda545a7-e388-4079-b100-11e08d0e112e",
   "metadata": {},
   "outputs": [
    {
     "data": {
      "text/plain": [
       "2"
      ]
     },
     "execution_count": 9,
     "metadata": {},
     "output_type": "execute_result"
    }
   ],
   "source": [
    "a.count(23)"
   ]
  },
  {
   "cell_type": "markdown",
   "id": "ed8180ae-025d-40b1-bca2-7fd54e5d16f7",
   "metadata": {},
   "source": [
    "Q5"
   ]
  },
  {
   "cell_type": "code",
   "execution_count": 13,
   "id": "1a610da9-6bd7-47ec-956c-dc3d6dd603d3",
   "metadata": {},
   "outputs": [
    {
     "data": {
      "text/plain": [
       "[67, 56, 46, 45, 34, 23, 23]"
      ]
     },
     "execution_count": 13,
     "metadata": {},
     "output_type": "execute_result"
    }
   ],
   "source": [
    "a[::-1]"
   ]
  }
 ],
 "metadata": {
  "kernelspec": {
   "display_name": "Python 3 (ipykernel)",
   "language": "python",
   "name": "python3"
  },
  "language_info": {
   "codemirror_mode": {
    "name": "ipython",
    "version": 3
   },
   "file_extension": ".py",
   "mimetype": "text/x-python",
   "name": "python",
   "nbconvert_exporter": "python",
   "pygments_lexer": "ipython3",
   "version": "3.10.8"
  }
 },
 "nbformat": 4,
 "nbformat_minor": 5
}
