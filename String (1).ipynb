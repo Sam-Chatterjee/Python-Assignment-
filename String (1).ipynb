{
 "cells": [
  {
   "cell_type": "markdown",
   "id": "41b3d9c9-93bf-44a1-846a-63bd24cb219d",
   "metadata": {},
   "source": [
    "Q1"
   ]
  },
  {
   "cell_type": "code",
   "execution_count": 3,
   "id": "068cc37e-fc83-4d9b-b045-70174c152f5f",
   "metadata": {},
   "outputs": [
    {
     "name": "stdout",
     "output_type": "stream",
     "text": [
      "'\n"
     ]
    }
   ],
   "source": [
    "a = \"'\"\n",
    "print(a)"
   ]
  },
  {
   "cell_type": "markdown",
   "id": "ab7f50b2-0ba9-49b2-9227-ee22be422b00",
   "metadata": {},
   "source": [
    "Q2"
   ]
  },
  {
   "cell_type": "code",
   "execution_count": 4,
   "id": "3dfc4626-80ee-4c32-b63a-9b02f0b06269",
   "metadata": {},
   "outputs": [
    {
     "data": {
      "text/plain": [
       "str"
      ]
     },
     "execution_count": 4,
     "metadata": {},
     "output_type": "execute_result"
    }
   ],
   "source": [
    "x = 'a'\n",
    "type(x)"
   ]
  },
  {
   "cell_type": "markdown",
   "id": "5f3799b1-6f26-478c-94f8-48c8edee8098",
   "metadata": {},
   "source": [
    "Q3"
   ]
  },
  {
   "cell_type": "code",
   "execution_count": 12,
   "id": "f04db9d4-b075-4fff-8b9c-5fed025e0d5f",
   "metadata": {},
   "outputs": [
    {
     "data": {
      "text/plain": [
       "8"
      ]
     },
     "execution_count": 12,
     "metadata": {},
     "output_type": "execute_result"
    }
   ],
   "source": [
    "text = 'Welcome to Python foundat1on course'\n",
    "text.find('t')"
   ]
  },
  {
   "cell_type": "code",
   "execution_count": 13,
   "id": "ea28554f-05a2-4f47-9e8e-efb9745ba392",
   "metadata": {},
   "outputs": [
    {
     "data": {
      "text/plain": [
       "6"
      ]
     },
     "execution_count": 13,
     "metadata": {},
     "output_type": "execute_result"
    }
   ],
   "source": [
    "text.count('o')"
   ]
  },
  {
   "cell_type": "code",
   "execution_count": 14,
   "id": "f2d1641e-14f5-4820-a6ac-dfdc46616e47",
   "metadata": {},
   "outputs": [
    {
     "data": {
      "text/plain": [
       "35"
      ]
     },
     "execution_count": 14,
     "metadata": {},
     "output_type": "execute_result"
    }
   ],
   "source": [
    "len(text)"
   ]
  },
  {
   "cell_type": "code",
   "execution_count": 17,
   "id": "bcce2f99-7cc6-4478-b1fb-4d48527b222b",
   "metadata": {},
   "outputs": [
    {
     "name": "stdout",
     "output_type": "stream",
     "text": [
      "Welcome to Python foundat1on course Thank You.\n"
     ]
    }
   ],
   "source": [
    "next = ' Thank You.'\n",
    "final = text + next\n",
    "print(final)"
   ]
  },
  {
   "cell_type": "markdown",
   "id": "cc9f2d3a-e8fd-47d7-812a-f182e82a31c1",
   "metadata": {},
   "source": [
    "Q4"
   ]
  },
  {
   "cell_type": "code",
   "execution_count": 28,
   "id": "bf663c83-46aa-4ad0-ba5c-5f23c4a9e95e",
   "metadata": {},
   "outputs": [
    {
     "name": "stdout",
     "output_type": "stream",
     "text": [
      "2\n",
      "4\n",
      "5\n"
     ]
    }
   ],
   "source": [
    "upper = 0\n",
    "lower = 0\n",
    "num = 0\n",
    "word = 'PanaJi@12256'\n",
    "for i in word:\n",
    "    if i.isdigit():\n",
    "        num = num + 1\n",
    "    elif i.isupper():\n",
    "        upper = upper + 1\n",
    "    elif i.islower():\n",
    "        lower = lower + 1\n",
    "print(upper)\n",
    "print(lower)  \n",
    "print(num)"
   ]
  },
  {
   "cell_type": "markdown",
   "id": "338defae-3db3-430d-baa3-b2c86e09e8fd",
   "metadata": {},
   "source": [
    "Q5"
   ]
  },
  {
   "cell_type": "code",
   "execution_count": 1,
   "id": "aab30255-bd13-49df-b633-baeacbba191e",
   "metadata": {},
   "outputs": [
    {
     "name": "stdout",
     "output_type": "stream",
     "text": [
      "12345\n",
      "12345\n"
     ]
    }
   ],
   "source": [
    "num = 12345\n",
    "num_str = str(num)\n",
    "print(num)\n",
    "print(num_str)"
   ]
  },
  {
   "cell_type": "code",
   "execution_count": null,
   "id": "5b630711-735f-4acc-9464-c95f2c4b9d43",
   "metadata": {},
   "outputs": [],
   "source": []
  }
 ],
 "metadata": {
  "kernelspec": {
   "display_name": "Python 3 (ipykernel)",
   "language": "python",
   "name": "python3"
  },
  "language_info": {
   "codemirror_mode": {
    "name": "ipython",
    "version": 3
   },
   "file_extension": ".py",
   "mimetype": "text/x-python",
   "name": "python",
   "nbconvert_exporter": "python",
   "pygments_lexer": "ipython3",
   "version": "3.10.8"
  }
 },
 "nbformat": 4,
 "nbformat_minor": 5
}
