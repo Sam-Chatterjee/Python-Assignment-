{
 "cells": [
  {
   "cell_type": "markdown",
   "id": "8e5c1dab-5f68-4fee-936e-6c2775096a7a",
   "metadata": {},
   "source": [
    "#Q1. Write all the conventions being followed while declaring a variable."
   ]
  },
  {
   "cell_type": "markdown",
   "id": "b469eb35-3f2f-4538-a538-f558e3e1968a",
   "metadata": {},
   "source": [
    "1. In lowercase letters separated with with underscores (e.g. grocery_items, total_count).\n",
    "2. Names cannot begin with a number or other symbols.\n",
    "3. Don't use words like if, else, for, while, etc., as they are functions in Python.\n",
    "4. Names should clearly convey the variable's purpose."
   ]
  },
  {
   "cell_type": "markdown",
   "id": "af2b6f0a-d68d-4aec-92dc-1d35f8023178",
   "metadata": {},
   "source": [
    "Q2. What will happen if we declare a restricted keyword as a variable?"
   ]
  },
  {
   "cell_type": "markdown",
   "id": "5aa6525c-c2ae-4084-b33d-f8ae26d4762f",
   "metadata": {},
   "source": [
    "SyntaxError"
   ]
  },
  {
   "cell_type": "markdown",
   "id": "5384aba2-1251-4ce2-bfb4-5aadfa05035e",
   "metadata": {},
   "source": [
    "Q3. Can we actually declare a string as a variable name?"
   ]
  },
  {
   "cell_type": "markdown",
   "id": "490a1cd5-7d81-466e-91cc-e4eb40dcec8b",
   "metadata": {},
   "source": [
    "Can be used but should be seperated with underscores and long strings shoud be avoided to make it more readable."
   ]
  },
  {
   "cell_type": "markdown",
   "id": "2170db30-7763-4d05-8bd8-fd18f35c6d95",
   "metadata": {},
   "source": [
    "Q4. Is it possible for us to declare “_” as a variable? If so, then write an example of it."
   ]
  },
  {
   "cell_type": "markdown",
   "id": "a3857cf4-bdb2-435c-9a29-59362dc436b4",
   "metadata": {},
   "source": [
    "Yes it is possible.\n",
    "\n",
    "INPUT-\n",
    "_ = [1,2,3,4,5]\n",
    "print(_)\n",
    "\n",
    "OUTPUT-\n",
    "[1, 2, 3, 4, 5]"
   ]
  },
  {
   "cell_type": "markdown",
   "id": "66d1b447-5a8d-4615-81db-380d94b9a6aa",
   "metadata": {},
   "source": [
    "Q5. Using an example, explain how the variables in python are dynamic in nature"
   ]
  },
  {
   "cell_type": "markdown",
   "id": "23e01d9d-ab8f-4cc0-b4c5-0bc3d725be70",
   "metadata": {},
   "source": [
    "x = 5 \n",
    "print(x) \n",
    "\n",
    "x = \"hello\" \n",
    "print(x) "
   ]
  },
  {
   "cell_type": "code",
   "execution_count": null,
   "id": "c0b3ef1b-3908-4855-868e-75b873cd22b3",
   "metadata": {},
   "outputs": [],
   "source": []
  }
 ],
 "metadata": {
  "kernelspec": {
   "display_name": "Python 3 (ipykernel)",
   "language": "python",
   "name": "python3"
  },
  "language_info": {
   "codemirror_mode": {
    "name": "ipython",
    "version": 3
   },
   "file_extension": ".py",
   "mimetype": "text/x-python",
   "name": "python",
   "nbconvert_exporter": "python",
   "pygments_lexer": "ipython3",
   "version": "3.10.8"
  }
 },
 "nbformat": 4,
 "nbformat_minor": 5
}
