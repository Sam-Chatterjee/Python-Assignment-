{
 "cells": [
  {
   "cell_type": "markdown",
   "id": "1829de7d-095a-440d-a3b0-6fe19181d1db",
   "metadata": {},
   "source": [
    "Q1. How can we store a s1ngle quote (‘) as a str1ng 1n a var1able?"
   ]
  },
  {
   "cell_type": "markdown",
   "id": "2b587cf8-8552-4204-885d-3e0169077db9",
   "metadata": {},
   "source": [
    "It can be save by enclosing it with double inverted commas (\"\")"
   ]
  },
  {
   "cell_type": "markdown",
   "id": "1dec93a7-b5ff-4f61-90c9-a388ba035022",
   "metadata": {},
   "source": [
    "Q2 Refer the below var1able:\n",
    "x = ‘a'\n",
    "Here, 1s x a character type or str1ng type var1able? Support your answer w1th an explanat1on."
   ]
  },
  {
   "cell_type": "markdown",
   "id": "7bba15a3-63e2-4648-9eed-77139419ad2f",
   "metadata": {},
   "source": [
    "'a' is a string type\n",
    "\n",
    "x = 'a'\n",
    "type(x)\n",
    "\n",
    "output\n",
    "str"
   ]
  },
  {
   "cell_type": "markdown",
   "id": "bbe8cc5c-1cb3-4343-a3ec-02345091c369",
   "metadata": {},
   "source": [
    "Q3"
   ]
  },
  {
   "cell_type": "code",
   "execution_count": 24,
   "id": "8bd56460-429e-4c95-ae24-6ee929dd680d",
   "metadata": {},
   "outputs": [
    {
     "name": "stdout",
     "output_type": "stream",
     "text": [
      "0\n",
      "1\n",
      "37\n",
      "Welcome to Python foundation course. Thank you\n"
     ]
    }
   ],
   "source": [
    "x = 'Welcome to Python foundation course. '\n",
    "print(x.find('Welcome'))\n",
    "print(x.count('to'))\n",
    "print(len(x))\n",
    "y = 'Thank you'\n",
    "z = x+y\n",
    "print(z)"
   ]
  },
  {
   "cell_type": "markdown",
   "id": "15da394c-b5b2-4a90-9bfc-2b3f29036529",
   "metadata": {},
   "source": [
    "Q4"
   ]
  },
  {
   "cell_type": "code",
   "execution_count": 36,
   "id": "0a27b5a0-eb6a-48c6-a1c0-16dd99b7bcc9",
   "metadata": {},
   "outputs": [
    {
     "name": "stdout",
     "output_type": "stream",
     "text": [
      "['a', 'n', 'a', 'i']\n",
      "['P', 'J']\n",
      "5\n"
     ]
    }
   ],
   "source": [
    "word = 'PanaJi@12256'\n",
    "lower = []\n",
    "upper = []\n",
    "num = 0\n",
    "for i in word:\n",
    "    if i.islower():\n",
    "        lower.append(i)\n",
    "    elif i.isupper():\n",
    "        upper.append(i)\n",
    "    if i.isnumeric():\n",
    "        num = 1 + num\n",
    "print(lower)\n",
    "print(upper)\n",
    "print(num)"
   ]
  },
  {
   "cell_type": "code",
   "execution_count": 37,
   "id": "b825b855-d6d0-4a38-91a7-0d4c53f47365",
   "metadata": {},
   "outputs": [
    {
     "ename": "NameError",
     "evalue": "name 'Q5' is not defined",
     "output_type": "error",
     "traceback": [
      "\u001b[0;31m---------------------------------------------------------------------------\u001b[0m",
      "\u001b[0;31mNameError\u001b[0m                                 Traceback (most recent call last)",
      "Cell \u001b[0;32mIn[37], line 1\u001b[0m\n\u001b[0;32m----> 1\u001b[0m \u001b[43mQ5\u001b[49m\n",
      "\u001b[0;31mNameError\u001b[0m: name 'Q5' is not defined"
     ]
    }
   ],
   "source": [
    "Q5"
   ]
  },
  {
   "cell_type": "code",
   "execution_count": null,
   "id": "ade0af56-6045-4c4e-acca-ec3accb12d80",
   "metadata": {},
   "outputs": [],
   "source": []
  }
 ],
 "metadata": {
  "kernelspec": {
   "display_name": "Python 3 (ipykernel)",
   "language": "python",
   "name": "python3"
  },
  "language_info": {
   "codemirror_mode": {
    "name": "ipython",
    "version": 3
   },
   "file_extension": ".py",
   "mimetype": "text/x-python",
   "name": "python",
   "nbconvert_exporter": "python",
   "pygments_lexer": "ipython3",
   "version": "3.10.8"
  }
 },
 "nbformat": 4,
 "nbformat_minor": 5
}
